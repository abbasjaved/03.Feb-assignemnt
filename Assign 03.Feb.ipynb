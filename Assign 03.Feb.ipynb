{
 "cells": [
  {
   "cell_type": "code",
   "execution_count": 21,
   "id": "9b3a8a77-5a07-4f0b-9038-8e0dd7e41af0",
   "metadata": {},
   "outputs": [
    {
     "data": {
      "text/plain": [
       "'def keyword is used to create a function'"
      ]
     },
     "execution_count": 21,
     "metadata": {},
     "output_type": "execute_result"
    }
   ],
   "source": [
    "# solution 1\n",
    "'''def keyword is used to create a function'''"
   ]
  },
  {
   "cell_type": "code",
   "execution_count": null,
   "id": "4d2a171e-6a9d-4c6c-92d1-2277a52a5877",
   "metadata": {},
   "outputs": [],
   "source": [
    "n = int(input(\"enter the number = \"))\n",
    "l = list(range(1, n+1))\n",
    "def test(a):\n",
    "    l = []\n",
    "    for i in a:\n",
    "        if i % 2 != 0:\n",
    "            l.append(i)\n",
    "            i = i + 1\n",
    "    return l\n",
    "test(l)           "
   ]
  },
  {
   "cell_type": "code",
   "execution_count": null,
   "id": "db4df664-e541-4ef5-ad80-77692679bd81",
   "metadata": {},
   "outputs": [],
   "source": [
    "#solution 2"
   ]
  },
  {
   "cell_type": "code",
   "execution_count": null,
   "id": "07eee19e-ed92-4c52-a1e1-8e8aa54e1f09",
   "metadata": {},
   "outputs": [],
   "source": [
    "#*args and **kwargs this function use for calling the vaule from user. whatever values enter by user it will be execute.\n",
    "#only difference is * and **, if ** is use the calling key and value."
   ]
  },
  {
   "cell_type": "code",
   "execution_count": 1,
   "id": "9b0b0f70-b06d-4766-b287-e35c9530dfc4",
   "metadata": {},
   "outputs": [],
   "source": [
    "def test1(*args):\n",
    "    return args"
   ]
  },
  {
   "cell_type": "code",
   "execution_count": 2,
   "id": "83fe4f29-256d-4cbf-9098-90ac8548b1f3",
   "metadata": {},
   "outputs": [
    {
     "data": {
      "text/plain": [
       "('Javed', 223, 42.23, [3, 5, 2, 5, 1])"
      ]
     },
     "execution_count": 2,
     "metadata": {},
     "output_type": "execute_result"
    }
   ],
   "source": [
    "test1(\"Javed\", 223, 42.23 ,[3,5,2,5,1])"
   ]
  },
  {
   "cell_type": "code",
   "execution_count": 3,
   "id": "07b3cafc-2cb7-4474-bff2-430c53248ace",
   "metadata": {},
   "outputs": [],
   "source": [
    "def test2(**kwargs):\n",
    "    return kwargs"
   ]
  },
  {
   "cell_type": "code",
   "execution_count": 4,
   "id": "f553993c-4826-420d-9da3-6c0217e937c6",
   "metadata": {},
   "outputs": [
    {
     "data": {
      "text/plain": [
       "{'a': 'Hello', 'b': 'Javed', 'c': 324, 'd': 23.42, 'e': [32, 3, 5, 6]}"
      ]
     },
     "execution_count": 4,
     "metadata": {},
     "output_type": "execute_result"
    }
   ],
   "source": [
    "test2(a = \"Hello\", b = \"Javed\", c = 324, d = 23.42, e = [32,3,5,6])"
   ]
  },
  {
   "cell_type": "code",
   "execution_count": 5,
   "id": "fa849e33-488a-4ade-87e2-538dc9080ce4",
   "metadata": {},
   "outputs": [],
   "source": [
    "#Solution 3"
   ]
  },
  {
   "cell_type": "code",
   "execution_count": 6,
   "id": "5c8e77b3-bd80-4d8d-bd69-9e3b927eba87",
   "metadata": {},
   "outputs": [],
   "source": [
    "# An iterator is an object that contains a countable number of values. An iterator is an object that can be iterated upon, meaning that you can traverse through all the values. Technically, in Python, an iterator is an object which implements the iterator protocol, which consist of the methods __iter__() and __next__() ."
   ]
  },
  {
   "cell_type": "code",
   "execution_count": 7,
   "id": "0031f04a-2153-4c81-9dd6-dcf27a8a2a7f",
   "metadata": {},
   "outputs": [
    {
     "name": "stdout",
     "output_type": "stream",
     "text": [
      "[2, 4, 6, 8, 10]\n"
     ]
    }
   ],
   "source": [
    "a = [2,4,6,8,10,12,14,16,18,20]\n",
    "l = []\n",
    "i = 0\n",
    "for i in a:\n",
    "    if i <= 10:\n",
    "        \n",
    "        l.append(i)\n",
    "        i = i + 1\n",
    "print(l)"
   ]
  },
  {
   "cell_type": "code",
   "execution_count": 8,
   "id": "72d180b7-0085-4476-8a10-18bdbaad91f9",
   "metadata": {},
   "outputs": [],
   "source": [
    "#solution 4"
   ]
  },
  {
   "cell_type": "code",
   "execution_count": 9,
   "id": "0fdd32c6-ecbf-4db0-8cbd-90a6737b8ec3",
   "metadata": {},
   "outputs": [
    {
     "data": {
      "text/plain": [
       "\"In Python, a generator is a function that returns an iterator that produces a sequence of values when iterated over. Generators are useful when we want to produce a large sequence of values, but we don't want to store all of them in memory at once.\""
      ]
     },
     "execution_count": 9,
     "metadata": {},
     "output_type": "execute_result"
    }
   ],
   "source": [
    "'''In Python, a generator is a function that returns an iterator that produces a sequence of values when iterated over. Generators are useful when we want to produce a large sequence of values, but we don't want to store all of them in memory at once.'''"
   ]
  },
  {
   "cell_type": "code",
   "execution_count": 10,
   "id": "033f6247-c965-40de-ba30-256cfe9b9511",
   "metadata": {},
   "outputs": [
    {
     "data": {
      "text/plain": [
       "'Yield keyword is use for return it to caller. It is used to create a genertor function. It is used for iterator object. yield keyword is any expression that is given with it into a generator object and return it to the caller.'"
      ]
     },
     "execution_count": 10,
     "metadata": {},
     "output_type": "execute_result"
    }
   ],
   "source": [
    "'''Yield keyword is use for return it to caller. It is used to create a genertor function. It is used for iterator object. yield keyword is any expression that is given with it into a generator object and return it to the caller.'''"
   ]
  },
  {
   "cell_type": "code",
   "execution_count": 2,
   "id": "06283ddc-c369-414f-b294-57b169eb1719",
   "metadata": {},
   "outputs": [
    {
     "name": "stdin",
     "output_type": "stream",
     "text": [
      "Enter Number:  7\n"
     ]
    },
    {
     "name": "stdout",
     "output_type": "stream",
     "text": [
      "2\n",
      "4\n",
      "6\n"
     ]
    }
   ],
   "source": [
    "n = int(input(\"Enter Number: \"))\n",
    "def test(n):\n",
    "    a =1\n",
    "    while a <= n:\n",
    "        if a % 2 ==0:  \n",
    "            yield a\n",
    "        a = a + 1\n",
    "\n",
    "for i in test(n):\n",
    "    print(i)"
   ]
  },
  {
   "cell_type": "code",
   "execution_count": null,
   "id": "a3d9c4fc-caa6-4c9a-871a-37859d872662",
   "metadata": {},
   "outputs": [],
   "source": [
    "#Solution 5"
   ]
  },
  {
   "cell_type": "code",
   "execution_count": 2,
   "id": "24125254-92f6-4e63-a0a9-ff393fc2bd6e",
   "metadata": {},
   "outputs": [],
   "source": [
    "def is_prime(n):\n",
    "    if n<=1:\n",
    "        return False\n",
    "    if n == 2:\n",
    "        return True\n",
    "    if n % 2  ==0:\n",
    "        return False\n",
    "    \n",
    "    i = 3 \n",
    "    while i <= (n**0.5):\n",
    "        if n % i == 0:\n",
    "            return False\n",
    "        i = i + 2\n",
    "    return True"
   ]
  },
  {
   "cell_type": "code",
   "execution_count": 4,
   "id": "b396fbd0-7c68-487d-ae0f-9bce5ef4ee99",
   "metadata": {},
   "outputs": [
    {
     "name": "stdout",
     "output_type": "stream",
     "text": [
      "2\n",
      "3\n",
      "5\n",
      "7\n",
      "11\n",
      "13\n",
      "17\n",
      "19\n",
      "23\n",
      "29\n",
      "31\n",
      "37\n",
      "41\n",
      "43\n",
      "47\n",
      "53\n",
      "59\n",
      "61\n",
      "67\n",
      "71\n"
     ]
    }
   ],
   "source": [
    "def test1(n):\n",
    "    n = 1\n",
    "    while True:\n",
    "        n = n+1\n",
    "        if is_prime(n):\n",
    "            yield n\n",
    "c = test1(20)\n",
    "for i in range(20):\n",
    "    print(next(c))"
   ]
  },
  {
   "cell_type": "code",
   "execution_count": 15,
   "id": "20eebef5-dbc1-4772-bd91-cd40bf79678e",
   "metadata": {},
   "outputs": [],
   "source": [
    "def test_fib(n):\n",
    "    a,b = 0,1\n",
    "    while True:\n",
    "        yield a\n",
    "        a,b = b , a+b"
   ]
  },
  {
   "cell_type": "code",
   "execution_count": 16,
   "id": "917a44a7-0842-4792-9d35-6f3d6ff562f7",
   "metadata": {},
   "outputs": [],
   "source": [
    "c = test_fib(10)"
   ]
  },
  {
   "cell_type": "code",
   "execution_count": 17,
   "id": "0369c98a-c5f7-4be4-9f75-a5fd21081ff2",
   "metadata": {},
   "outputs": [
    {
     "name": "stdout",
     "output_type": "stream",
     "text": [
      "0\n",
      "1\n",
      "1\n",
      "2\n",
      "3\n",
      "5\n",
      "8\n",
      "13\n",
      "21\n",
      "34\n"
     ]
    }
   ],
   "source": [
    "for i in range(10):\n",
    "    print(next(c))"
   ]
  },
  {
   "cell_type": "code",
   "execution_count": 58,
   "id": "3232c16a-7ec5-42a6-bd0e-fa776b2736d6",
   "metadata": {},
   "outputs": [],
   "source": [
    "#Solution 7"
   ]
  },
  {
   "cell_type": "code",
   "execution_count": 59,
   "id": "6687b606-3df8-491f-bbeb-acdf60cf03d3",
   "metadata": {},
   "outputs": [],
   "source": [
    "l = \"pwskills\""
   ]
  },
  {
   "cell_type": "code",
   "execution_count": 60,
   "id": "5e154b7e-b441-4707-bc45-05576dc096d5",
   "metadata": {},
   "outputs": [
    {
     "data": {
      "text/plain": [
       "['p', 'w', 's', 'k', 'i', 'l', 'l', 's']"
      ]
     },
     "execution_count": 60,
     "metadata": {},
     "output_type": "execute_result"
    }
   ],
   "source": [
    "list(\"\".join(l))"
   ]
  },
  {
   "cell_type": "code",
   "execution_count": 61,
   "id": "f5a79ca8-442e-4ff0-a3b8-0fc2a0d973e8",
   "metadata": {},
   "outputs": [],
   "source": [
    "#solution 9"
   ]
  },
  {
   "cell_type": "code",
   "execution_count": 63,
   "id": "c79a3965-9acc-4c17-b7ee-0f72d56c4dcf",
   "metadata": {},
   "outputs": [
    {
     "data": {
      "text/plain": [
       "[1,\n",
       " 3,\n",
       " 5,\n",
       " 7,\n",
       " 9,\n",
       " 11,\n",
       " 13,\n",
       " 15,\n",
       " 17,\n",
       " 19,\n",
       " 21,\n",
       " 23,\n",
       " 25,\n",
       " 27,\n",
       " 29,\n",
       " 31,\n",
       " 33,\n",
       " 35,\n",
       " 37,\n",
       " 39,\n",
       " 41,\n",
       " 43,\n",
       " 45,\n",
       " 47,\n",
       " 49,\n",
       " 51,\n",
       " 53,\n",
       " 55,\n",
       " 57,\n",
       " 59,\n",
       " 61,\n",
       " 63,\n",
       " 65,\n",
       " 67,\n",
       " 69,\n",
       " 71,\n",
       " 73,\n",
       " 75,\n",
       " 77,\n",
       " 79,\n",
       " 81,\n",
       " 83,\n",
       " 85,\n",
       " 87,\n",
       " 89,\n",
       " 91,\n",
       " 93,\n",
       " 95,\n",
       " 97,\n",
       " 99]"
      ]
     },
     "execution_count": 63,
     "metadata": {},
     "output_type": "execute_result"
    }
   ],
   "source": [
    "[i for i in range(100) if i %2 !=0]"
   ]
  },
  {
   "cell_type": "code",
   "execution_count": null,
   "id": "ba77a6c0-bd05-48af-b46b-85679056d3d2",
   "metadata": {},
   "outputs": [],
   "source": []
  }
 ],
 "metadata": {
  "kernelspec": {
   "display_name": "Python 3 (ipykernel)",
   "language": "python",
   "name": "python3"
  },
  "language_info": {
   "codemirror_mode": {
    "name": "ipython",
    "version": 3
   },
   "file_extension": ".py",
   "mimetype": "text/x-python",
   "name": "python",
   "nbconvert_exporter": "python",
   "pygments_lexer": "ipython3",
   "version": "3.10.8"
  }
 },
 "nbformat": 4,
 "nbformat_minor": 5
}
